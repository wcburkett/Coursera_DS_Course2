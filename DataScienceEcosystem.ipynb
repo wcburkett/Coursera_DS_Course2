{
 "cells": [
  {
   "cell_type": "markdown",
   "id": "bddfa4d0-ec5c-40de-9a31-a2095c00eb54",
   "metadata": {},
   "source": [
    "# Data Science Tools and Ecosystem"
   ]
  },
  {
   "cell_type": "markdown",
   "id": "02c52615-1030-4f0b-941e-c9ba794351c4",
   "metadata": {},
   "source": [
    "In this notebook, Data Science Tools and Ecosystems are summarized."
   ]
  },
  {
   "cell_type": "markdown",
   "id": "273da97f-5724-4fc6-bca7-55979ab8a34c",
   "metadata": {},
   "source": [
    "**Objectives:** \n",
    "- List popular languages for Data Science\n",
    "- List tools that Data Scientists use\n",
    "- Knowing how to create and display tables\n"
   ]
  },
  {
   "cell_type": "markdown",
   "id": "2f193afb-d008-4c33-82f0-acfba9c2b9d3",
   "metadata": {},
   "source": [
    "Some of the popular languages that Data Scientists use are:\n",
    "1. Java\n",
    "2. R\n",
    "3. Python\n",
    "4. Javascript\n",
    "5. SQL"
   ]
  },
  {
   "cell_type": "markdown",
   "id": "5183543a-9018-4161-9d68-c70b09538d19",
   "metadata": {},
   "source": [
    "Some of the commonly used libraries used by Data Scientists include:\n",
    "1. NumPy\n",
    "2. SciPy\n",
    "3. Matplotlib\n",
    "\n"
   ]
  },
  {
   "cell_type": "markdown",
   "id": "04bbf979-4fe3-4d3f-97d4-b547ac825a53",
   "metadata": {},
   "source": [
    "| Data Science Tools |\n",
    "|--------------------|\n",
    "| RStudio |\n",
    "| Jupyter Lab |\n",
    "| Spyder |"
   ]
  },
  {
   "cell_type": "markdown",
   "id": "50cb84d5-1c1e-4b8c-85f6-518b1aaea246",
   "metadata": {},
   "source": [
    "### Below are a few examples of evaluating arithmetic expressions in Python."
   ]
  },
  {
   "cell_type": "code",
   "execution_count": 1,
   "id": "5e85a29f-dc57-46e4-895a-c1d07907c1ee",
   "metadata": {},
   "outputs": [
    {
     "data": {
      "text/plain": [
       "17"
      ]
     },
     "execution_count": 1,
     "metadata": {},
     "output_type": "execute_result"
    }
   ],
   "source": [
    "# This is a simple arithmetic expression to multiply then add integers\n",
    "(3*4)+5"
   ]
  },
  {
   "cell_type": "code",
   "execution_count": 5,
   "id": "f37597b7-9720-4251-9da0-335db1591d1f",
   "metadata": {},
   "outputs": [
    {
     "data": {
      "text/plain": [
       "3.3333333333333335"
      ]
     },
     "execution_count": 5,
     "metadata": {},
     "output_type": "execute_result"
    }
   ],
   "source": [
    "# This will convert 200 minutes to hours by dividing by 60\n",
    "200 / 60"
   ]
  },
  {
   "cell_type": "markdown",
   "id": "b9ee7ec7-38a6-4aad-8b79-5bd568756791",
   "metadata": {},
   "source": [
    "## Author\n",
    "Craig"
   ]
  },
  {
   "cell_type": "code",
   "execution_count": null,
   "id": "ff01c2d5-3d10-4857-b425-ec2577e225a4",
   "metadata": {},
   "outputs": [],
   "source": []
  }
 ],
 "metadata": {
  "kernelspec": {
   "display_name": "Python [conda env:base] *",
   "language": "python",
   "name": "conda-base-py"
  },
  "language_info": {
   "codemirror_mode": {
    "name": "ipython",
    "version": 3
   },
   "file_extension": ".py",
   "mimetype": "text/x-python",
   "name": "python",
   "nbconvert_exporter": "python",
   "pygments_lexer": "ipython3",
   "version": "3.13.5"
  }
 },
 "nbformat": 4,
 "nbformat_minor": 5
}
